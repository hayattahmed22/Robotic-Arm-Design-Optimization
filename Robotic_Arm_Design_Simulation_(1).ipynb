{
  "cells": [
    {
      "cell_type": "markdown",
      "id": "a24bd987-6c68-4f49-a598-da25cbd9173a",
      "metadata": {
        "id": "a24bd987-6c68-4f49-a598-da25cbd9173a"
      },
      "source": [
        "![Johnson & Johnson MedTech Logo](https://raw.githubusercontent.com/Forage-Simulations/Johnson-Johnson-Robotics-Controls/main/github_assets.png)\n"
      ]
    },
    {
      "cell_type": "markdown",
      "id": "6e29e663-e35c-4819-a2b8-5bb96372c948",
      "metadata": {
        "id": "6e29e663-e35c-4819-a2b8-5bb96372c948"
      },
      "source": [
        "# Robotic Arm Design Simulation\n",
        "\n",
        "### Objective\n",
        "This notebook helps simulate the impact of design modifications on a robotic arm’s performance. You will:\n",
        "\n",
        "- Test design modifications for improving response time and durability.\n",
        "- Input efficiency and reinforcement factors to assess their impact.\n",
        "- Visualize simulation results for response time and durability metrics.\n",
        "- Document findings to support your design proposal.\n",
        "\n",
        "### Instructions\n",
        "1. **Run Setup Cells**: Load libraries and define functions necessary for simulations.\n",
        "2. **Input Factors**: Enter efficiency and reinforcement factors to simulate improvements.\n",
        "3. **Analyze Results**: Compare original and improved metrics using the visual output.\n",
        "4. **Document Findings**: Record your observations to support your design proposal.\n",
        "\n",
        "Ensure you use the **Design Proposal Template** to document your findings.\n"
      ]
    },
    {
      "cell_type": "code",
      "execution_count": 1,
      "id": "9c992845-d219-411c-b6d2-62eae6716702",
      "metadata": {
        "id": "9c992845-d219-411c-b6d2-62eae6716702"
      },
      "outputs": [],
      "source": [
        "# Import required libraries\n",
        "import numpy as np  # For numerical calculations\n",
        "import matplotlib.pyplot as plt  # For data visualization\n",
        "\n",
        "# Ensure the necessary libraries are installed\n",
        "try:\n",
        "    import numpy\n",
        "    import matplotlib\n",
        "except ImportError as e:\n",
        "    print(f\"Missing library: {e}. Please install it using 'pip install numpy matplotlib'.\")\n"
      ]
    },
    {
      "cell_type": "code",
      "execution_count": 2,
      "id": "09bd79ee-7727-4e34-8206-8a22436f6b88",
      "metadata": {
        "id": "09bd79ee-7727-4e34-8206-8a22436f6b88"
      },
      "outputs": [],
      "source": [
        "# Function to simulate response time improvements\n",
        "def simulate_response_time(base_time, efficiency_factor):\n",
        "    \"\"\"Calculate the new response time based on efficiency improvements.\"\"\"\n",
        "    return base_time * (1 - efficiency_factor)\n",
        "\n",
        "# Function to simulate durability improvements\n",
        "def simulate_durability(base_durability, reinforcement_factor):\n",
        "    \"\"\"Calculate the new durability score based on reinforcement.\"\"\"\n",
        "    return base_durability + (base_durability * reinforcement_factor)\n"
      ]
    },
    {
      "cell_type": "code",
      "execution_count": 4,
      "id": "ef03372d-0b97-44f5-9890-500e09275aec",
      "metadata": {
        "colab": {
          "base_uri": "https://localhost:8080/"
        },
        "id": "ef03372d-0b97-44f5-9890-500e09275aec",
        "outputId": "abbd3f90-d6b1-4382-b96d-a941a717c9a1"
      },
      "outputs": [
        {
          "name": "stdout",
          "output_type": "stream",
          "text": [
            "Enter efficiency improvement factor (between 0 and 1, e.g., 0.15 for 15%): 0.15\n",
            "Enter durability reinforcement factor (between 0 and 1, e.g., 0.10 for 10%): 0.15\n"
          ]
        }
      ],
      "source": [
        "# Example Base Metrics\n",
        "base_response_time = 0.20  # in seconds\n",
        "base_durability = 75       # durability score out of 100\n",
        "\n",
        "# User Inputs with Validation\n",
        "while True:\n",
        "    try:\n",
        "        efficiency_factor = float(input(\"Enter efficiency improvement factor (between 0 and 1, e.g., 0.15 for 15%): \"))\n",
        "        if 0 <= efficiency_factor <= 1:\n",
        "            break\n",
        "        else:\n",
        "            print(\"Please enter a value between 0 and 1.\")\n",
        "    except ValueError:\n",
        "        print(\"Invalid input. Please enter a numerical value.\")\n",
        "\n",
        "while True:\n",
        "    try:\n",
        "        reinforcement_factor = float(input(\"Enter durability reinforcement factor (between 0 and 1, e.g., 0.10 for 10%): \"))\n",
        "        if 0 <= reinforcement_factor <= 1:\n",
        "            break\n",
        "        else:\n",
        "            print(\"Please enter a value between 0 and 1.\")\n",
        "    except ValueError:\n",
        "        print(\"Invalid input. Please enter a numerical value.\")\n"
      ]
    },
    {
      "cell_type": "code",
      "execution_count": 5,
      "id": "f4cdded1-fc9f-4e32-bd12-f18a61fe7d41",
      "metadata": {
        "colab": {
          "base_uri": "https://localhost:8080/"
        },
        "id": "f4cdded1-fc9f-4e32-bd12-f18a61fe7d41",
        "outputId": "cc4c3d91-96f1-4954-ac44-145206becef8"
      },
      "outputs": [
        {
          "output_type": "stream",
          "name": "stdout",
          "text": [
            "\n",
            "Simulation Results:\n",
            "Original Response Time: 0.2 seconds\n",
            "New Response Time: 0.17 seconds\n",
            "Original Durability Score: 75\n",
            "New Durability Score: 86.25\n"
          ]
        }
      ],
      "source": [
        "# Simulations\n",
        "new_response_time = simulate_response_time(base_response_time, efficiency_factor)\n",
        "new_durability = simulate_durability(base_durability, reinforcement_factor)\n",
        "\n",
        "# Output Results\n",
        "print(\"\\nSimulation Results:\")\n",
        "print(f\"Original Response Time: {base_response_time} seconds\")\n",
        "print(f\"New Response Time: {round(new_response_time, 3)} seconds\")\n",
        "print(f\"Original Durability Score: {base_durability}\")\n",
        "print(f\"New Durability Score: {round(new_durability, 2)}\")\n"
      ]
    },
    {
      "cell_type": "code",
      "execution_count": 6,
      "id": "2a7e16ac-01c6-49bb-a03d-143660b6ad0f",
      "metadata": {
        "colab": {
          "base_uri": "https://localhost:8080/",
          "height": 507
        },
        "id": "2a7e16ac-01c6-49bb-a03d-143660b6ad0f",
        "outputId": "36468c51-066f-4d25-c6fb-270b4fc5a944"
      },
      "outputs": [
        {
          "output_type": "display_data",
          "data": {
            "text/plain": [
              "<Figure size 800x500 with 1 Axes>"
            ],
            "image/png": "[encoded data removed]"
          },
          "metadata": {}
        }
      ],
      "source": [
        "# Visual Feedback\n",
        "metrics = [\"Response Time (seconds)\", \"Durability Score\"]\n",
        "original_values = [base_response_time, base_durability]\n",
        "new_values = [new_response_time, new_durability]\n",
        "\n",
        "plt.figure(figsize=(8, 5))\n",
        "x = np.arange(len(metrics))\n",
        "width = 0.35\n",
        "\n",
        "plt.bar(x - width/2, original_values, width, label='Original', color='blue')\n",
        "plt.bar(x + width/2, new_values, width, label='New', color='green')\n",
        "\n",
        "plt.xlabel(\"Metrics\")\n",
        "plt.ylabel(\"Values\")\n",
        "plt.title(\"Simulation Results: Original vs New\")\n",
        "plt.xticks(x, metrics)\n",
        "plt.legend()\n",
        "plt.grid(axis='y', linestyle='--', alpha=0.7)\n",
        "plt.tight_layout()\n",
        "plt.show()\n"
      ]
    },
    {
      "cell_type": "code",
      "execution_count": 1,
      "id": "56dbdd3a-dbda-4343-a7b6-0c09cb240df4",
      "metadata": {
        "colab": {
          "base_uri": "https://localhost:8080/",
          "height": 158
        },
        "id": "56dbdd3a-dbda-4343-a7b6-0c09cb240df4",
        "outputId": "3299d671-1991-459b-96eb-e2cbe3ff25ee"
      },
      "outputs": [
        {
          "output_type": "error",
          "ename": "SyntaxError",
          "evalue": "unterminated string literal (detected at line 15) (ipython-input-1-41339203.py, line 15)",
          "traceback": [
            "\u001b[0;36m  File \u001b[0;32m\"/tmp/ipython-input-1-41339203.py\"\u001b[0;36m, line \u001b[0;32m15\u001b[0m\n\u001b[0;31m    The efficiency improvement factor directly reduced the actuator response time from 0.20 seconds to 0.17 seconds, indicating faster and smoother movements. This suggests that optimizing efficiency effectively enhances the robotic arm's real-time responsiveness, which is crucial for precision in surgical applications.\u001b[0m\n\u001b[0m                                                                                                                                                                                                                                            ^\u001b[0m\n\u001b[0;31mSyntaxError\u001b[0m\u001b[0;31m:\u001b[0m unterminated string literal (detected at line 15)\n"
          ]
        }
      ],
      "source": [
        "### Observations and Results\n",
        "\n",
        "Record your observations from the simulation below:\n",
        "\n",
        "#### Initial Metrics:\n",
        "- Response Time: 0.20 seconds\n",
        "- Durability Score: 75\n",
        "\n",
        "#### Improved Metrics:\n",
        "- Response Time:  0.17\n",
        "- Durability Score:  86.25\n",
        "\n",
        "#### Key Insights:\n",
        "1. How did the efficiency improvement factor impact response time?\n",
        "The efficiency improvement factor directly reduced the actuator response time from 0.20 seconds to 0.17 seconds, indicating faster and smoother movements. This suggests that optimizing efficiency effectively enhances the robotic arm's real-time responsiveness, which is crucial for precision in surgical applications.\n",
        "2. How did the reinforcement factor affect durability?\n",
        "The reinforcement factor significantly improved the durability score from 75 to 86.25. This increase demonstrates that strengthening the actuators and optimizing load distribution reduces mechanical wear and prolongs the system’s operational lifespan, improving overall reliability.\n",
        "3. Were there any trade-offs between responsiveness and durability?\n",
        "In this case, there were no negative trade-offs observed. Both responsiveness and durability improved concurrently, which suggests that the proposed modifications complement each other and collectively enhance overall system performance without compromising either aspect.\n",
        "#### Conclusion:\n",
        "The design modifications — improving actuator efficiency and reinforcing structural components — resulted in a 15% reduction in response time and a 15% improvement in durability. These changes demonstrate that the robotic arm will perform faster and last longer, enhancing surgical precision and reliability.\n",
        "\n",
        "Next steps for further improvements could include:\n",
        "\n",
        "Further fine-tuning of sensor placements and calibrations for even higher accuracy.\n",
        "\n",
        "Exploring advanced lightweight materials to reduce overall arm weight while maintaining strength.\n",
        "\n",
        "Continuous iterative testing with higher efficiency factors to further optimize response times without sacrificing durability.\n"
      ]
    },
    {
      "cell_type": "markdown",
      "metadata": {
        "id": "9af097c6"
      },
      "source": [
        "### Observations and Results\n",
        "\n",
        "Record your observations from the simulation below:\n",
        "\n",
        "#### Initial Metrics:\n",
        "- Response Time: 0.20 seconds\n",
        "- Durability Score: 75\n",
        "\n",
        "#### Improved Metrics:\n",
        "- Response Time:  0.17\n",
        "- Durability Score:  86.25\n",
        "\n",
        "#### Key Insights:\n",
        "1. How did the efficiency improvement factor impact response time?\n",
        "The efficiency improvement factor directly reduced the actuator response time from 0.20 seconds to 0.17 seconds, indicating faster and smoother movements. This suggests that optimizing efficiency effectively enhances the robotic arm's real-time responsiveness, which is crucial for precision in surgical applications.\n",
        "2. How did the reinforcement factor affect durability?\n",
        "The reinforcement factor significantly improved the durability score from 75 to 86.25. This increase demonstrates that strengthening the actuators and optimizing load distribution reduces mechanical wear and prolongs the system’s operational lifespan, improving overall reliability.\n",
        "3. Were there any trade-offs between responsiveness and durability?\n",
        "In this case, there were no negative trade-offs observed. Both responsiveness and durability improved concurrently, which suggests that the proposed modifications complement each other and collectively enhance overall system performance without compromising either aspect.\n",
        "#### Conclusion:\n",
        "The design modifications — improving actuator efficiency and reinforcing structural components — resulted in a 15% reduction in response time and a 15% improvement in durability. These changes demonstrate that the robotic arm will perform faster and last longer, enhancing surgical precision and reliability.\n",
        "\n",
        "Next steps for further improvements could include:\n",
        "\n",
        "Further fine-tuning of sensor placements and calibrations for even higher accuracy.\n",
        "\n",
        "Exploring advanced lightweight materials to reduce overall arm weight while maintaining strength.\n",
        "\n",
        "Continuous iterative testing with higher efficiency factors to further optimize response times without sacrificing durability."
      ],
      "id": "9af097c6"
    }
  ],
  "metadata": {
    "kernelspec": {
      "display_name": "Python 3 (ipykernel)",
      "language": "python",
      "name": "python3"
    },
    "language_info": {
      "codemirror_mode": {
        "name": "ipython",
        "version": 3
      },
      "file_extension": ".py",
      "mimetype": "text/x-python",
      "name": "python",
      "nbconvert_exporter": "python",
      "pygments_lexer": "ipython3",
      "version": "3.12.7"
    },
    "colab": {
      "provenance": []
    }
  },
  "nbformat": 4,
  "nbformat_minor": 5
}